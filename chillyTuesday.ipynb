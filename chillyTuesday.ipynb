{
 "cells": [
  {
   "cell_type": "code",
   "execution_count": 4,
   "metadata": {},
   "outputs": [
    {
     "name": "stdout",
     "output_type": "stream",
     "text": [
      "Hello World!\n"
     ]
    }
   ],
   "source": [
    "print (\"Hello World!\")"
   ]
  },
  {
   "cell_type": "code",
   "execution_count": 5,
   "metadata": {},
   "outputs": [
    {
     "name": "stdout",
     "output_type": "stream",
     "text": [
      "I dont't want anything for christmas\n"
     ]
    }
   ],
   "source": [
    "print (\"I dont't want anything for christmas\")"
   ]
  },
  {
   "cell_type": "code",
   "execution_count": 7,
   "metadata": {},
   "outputs": [
    {
     "name": "stdout",
     "output_type": "stream",
     "text": [
      "20\n"
     ]
    }
   ],
   "source": [
    "a = 10 \n",
    "b = 10 \n",
    "\n",
    "c= a+b \n",
    "print(c)"
   ]
  },
  {
   "cell_type": "code",
   "execution_count": null,
   "metadata": {},
   "outputs": [],
   "source": [
    "number1 = int(input ('Enter a number'))\n",
    "number2 = int(input ('Enter a second  number'))\n",
    "number3 = int(input ('Enter another number'))\n",
    "\n",
    "#changing the input from a string to an integer\n",
    "\n",
    "total1 =  number1 + number2 + number3\n",
    "\n",
    "print (total1)\n",
    "\n",
    "# printing the sum of the 3 numbers \n",
    "\n",
    "print( total1/3)\n",
    "\n",
    "# calc the average "
   ]
  },
  {
   "cell_type": "code",
   "execution_count": 1,
   "metadata": {},
   "outputs": [
    {
     "data": {
      "text/plain": [
       "2"
      ]
     },
     "execution_count": 1,
     "metadata": {},
     "output_type": "execute_result"
    }
   ],
   "source": [
    "7%5"
   ]
  },
  {
   "cell_type": "code",
   "execution_count": 2,
   "metadata": {},
   "outputs": [
    {
     "name": "stdout",
     "output_type": "stream",
     "text": [
      "13\n"
     ]
    }
   ],
   "source": [
    "# reassignment operator \n",
    "x=23 \n",
    "x-=10\n",
    "print( x )"
   ]
  },
  {
   "cell_type": "code",
   "execution_count": 3,
   "metadata": {},
   "outputs": [
    {
     "data": {
      "text/plain": [
       "False"
      ]
     },
     "execution_count": 3,
     "metadata": {},
     "output_type": "execute_result"
    }
   ],
   "source": [
    "x>23"
   ]
  },
  {
   "cell_type": "code",
   "execution_count": 8,
   "metadata": {},
   "outputs": [
    {
     "name": "stdout",
     "output_type": "stream",
     "text": [
      "You cannot enter the concert\n"
     ]
    }
   ],
   "source": [
    "## using and , or and not \n",
    "\n",
    "# input from user \n",
    "\n",
    "age = int(input(\"What is your age?\"))\n",
    "\n",
    "# variable for if the user has a  ticket \n",
    "\n",
    "ticket = input(\"Do you have a ticket?(yes/no):\").lower()\n",
    "\n",
    "# logical operators\n",
    "\n",
    "if age >= 18 and ticket == \"yes\":\n",
    "    print(\"You can enter the concert!\")\n",
    "elif age < 18 or ticket != \"yes\":\n",
    "    print(\"You cannot enter the concert\")\n"
   ]
  },
  {
   "cell_type": "code",
   "execution_count": 16,
   "metadata": {},
   "outputs": [
    {
     "name": "stdout",
     "output_type": "stream",
     "text": [
      "The numbers are the same!\n"
     ]
    }
   ],
   "source": [
    "number1 = int(input(\"What is your favourite number?\"))\n",
    "\n",
    "number2 = int(input(\"Give me a second number:\"))\n",
    "\n",
    "\n",
    "if number1 > number2:\n",
    "    print(\"The first number is greater than the second number!\")\n",
    "elif number1 == number2: \n",
    "    print (\"The numbers are the same!\")\n",
    "else :\n",
    "    print (\"The first number isnt greater than the second number!\")\n",
    "\n"
   ]
  },
  {
   "cell_type": "code",
   "execution_count": 19,
   "metadata": {},
   "outputs": [
    {
     "name": "stdout",
     "output_type": "stream",
     "text": [
      "It is cold outside\n"
     ]
    }
   ],
   "source": [
    "# nested if statements \n",
    "\n",
    "temperature = 10\n",
    "humidity = 1\n",
    "\n",
    "if temperature > 35: \n",
    "    print (\"Its warm.\")\n",
    "    if humidity > 100:\n",
    "        print (\"but it is also humid.\")\n",
    "    else: \n",
    "        print (\"it is drty today \")\n",
    "else: \n",
    "    print (\"It is cold outside\")\n"
   ]
  },
  {
   "cell_type": "code",
   "execution_count": 27,
   "metadata": {},
   "outputs": [
    {
     "name": "stdout",
     "output_type": "stream",
     "text": [
      "The price for swimming is: £2.5 have a great day!\n"
     ]
    }
   ],
   "source": [
    "# create a system that will output correct entrance fee\n",
    "# regular swim = £5 , pensioners / teenagers are free \n",
    "# adults with swim card get 50% off \n",
    "\n",
    "age = int(input(\"What is your age?\"))\n",
    "if age < 20 or age > 70 :\n",
    "    price = 0 \n",
    "else:\n",
    "    swim_c= input((\"Do you have a swim card?(yes/no)\").lower())\n",
    "    if swim_c == \"yes\" :\n",
    "        price = 2.5 \n",
    "    else:\n",
    "        price = 5 \n",
    "\n",
    "print (f\"The price for swimming is: £{price} have a great day!\")\n"
   ]
  },
  {
   "cell_type": "code",
   "execution_count": 29,
   "metadata": {},
   "outputs": [
    {
     "name": "stdout",
     "output_type": "stream",
     "text": [
      "0\n",
      "1\n",
      "2\n",
      "3\n",
      "4\n",
      "5\n",
      "6\n",
      "7\n",
      "8\n",
      "9\n"
     ]
    }
   ],
   "source": [
    "#iterations \n",
    "for counter in range (10):\n",
    "    print (counter)"
   ]
  },
  {
   "cell_type": "code",
   "execution_count": 32,
   "metadata": {},
   "outputs": [
    {
     "name": "stdout",
     "output_type": "stream",
     "text": [
      "It is a chilly tuesday!\n",
      "It is a chilly tuesday!\n",
      "It is a chilly tuesday!\n",
      "It is a chilly tuesday!\n",
      "It is a chilly tuesday!\n"
     ]
    }
   ],
   "source": [
    "# create a avariable to print 5 times \n",
    "\n",
    "message = \"It is a chilly tuesday!\"\n",
    "\n",
    "# create a loop to print the message 5 times! \n",
    "\n",
    "for i in range (5):\n",
    "    print( message )"
   ]
  },
  {
   "cell_type": "code",
   "execution_count": 40,
   "metadata": {},
   "outputs": [
    {
     "name": "stdout",
     "output_type": "stream",
     "text": [
      "1.Raiko is the best data scientist of 2025 \n",
      "2.Raiko is the best data scientist of 2025 \n",
      "3.Raiko is the best data scientist of 2025 \n",
      "4.Raiko is the best data scientist of 2025 \n",
      "5.Raiko is the best data scientist of 2025 \n",
      "6.Raiko is the best data scientist of 2025 \n",
      "7.Raiko is the best data scientist of 2025 \n",
      "8.Raiko is the best data scientist of 2025 \n",
      "9.Raiko is the best data scientist of 2025 \n",
      "10.Raiko is the best data scientist of 2025 \n"
     ]
    }
   ],
   "source": [
    "msg = input (\"Enter your message:\")\n",
    "\n",
    "repeat_times = int(input(\"How many times would you like this repeated?\"))\n",
    "\n",
    "for i in range (1, repeat_times+1):\n",
    "    print(str(i) + \".\" + msg)\n"
   ]
  },
  {
   "cell_type": "code",
   "execution_count": 54,
   "metadata": {},
   "outputs": [
    {
     "name": "stdout",
     "output_type": "stream",
     "text": [
      "1 x 2 = 2\n",
      "2 x 2 = 4\n",
      "3 x 2 = 6\n",
      "4 x 2 = 8\n",
      "5 x 2 = 10\n",
      "6 x 2 = 12\n",
      "7 x 2 = 14\n",
      "8 x 2 = 16\n",
      "9 x 2 = 18\n",
      "10 x 2 = 20\n",
      "11 x 2 = 22\n",
      "12 x 2 = 24\n"
     ]
    }
   ],
   "source": [
    "msg = int(input( \"Please enter your favourite times table:\"))\n",
    "\n",
    "for i in range (1,13):     \n",
    "    print (str(i), \"x\" , msg , \"=\" , msg * i)    "
   ]
  },
  {
   "cell_type": "code",
   "execution_count": 57,
   "metadata": {},
   "outputs": [
    {
     "name": "stdout",
     "output_type": "stream",
     "text": [
      "1\n",
      "2\n",
      "3\n",
      "4\n",
      "5\n",
      "6\n",
      "7\n",
      "8\n",
      "9\n"
     ]
    }
   ],
   "source": [
    "# indefinite iteration \n",
    "count = 1 \n",
    "while count < 10: \n",
    "    print(count)\n",
    "    count+=1"
   ]
  },
  {
   "cell_type": "code",
   "execution_count": null,
   "metadata": {},
   "outputs": [
    {
     "name": "stdout",
     "output_type": "stream",
     "text": [
      "Access granted!\n"
     ]
    }
   ],
   "source": [
    "entry = \"\"\n",
    "password= \"letmein\"\n",
    "\n",
    "while entry != password : \n",
    "    entry = input(\"Please enter your password\")\n",
    "print(\"Access granted!\")\n",
    "\n",
    "# the code will stay in a loop until the corect password is entered"
   ]
  },
  {
   "cell_type": "code",
   "execution_count": null,
   "metadata": {},
   "outputs": [
    {
     "name": "stdout",
     "output_type": "stream",
     "text": [
      "wrong!\n",
      "wrong!\n",
      "wrong!\n"
     ]
    }
   ],
   "source": [
    "while True: \n",
    "    guess = input (\"Guess my name\")\n",
    "    if guess == \"Rumplestiltskin\"  : \n",
    "        print (\"Correct!\")\n",
    "        break\n",
    "    print(\"wrong!\")\n"
   ]
  },
  {
   "cell_type": "code",
   "execution_count": 1,
   "metadata": {},
   "outputs": [
    {
     "name": "stdout",
     "output_type": "stream",
     "text": [
      "Wrong!\n",
      "Wrong!\n",
      "Wrong!\n",
      "Wrong!\n",
      "Wrong!\n",
      "Wrong!\n",
      "Wrong!\n",
      "Wrong!\n",
      "Wrong!\n",
      "Wrong!\n",
      "Wrong!\n",
      "Wrong!\n",
      "Wrong!\n",
      "Wrong!\n"
     ]
    },
    {
     "ename": "KeyboardInterrupt",
     "evalue": "Interrupted by user",
     "output_type": "error",
     "traceback": [
      "\u001b[1;31m---------------------------------------------------------------------------\u001b[0m",
      "\u001b[1;31mKeyboardInterrupt\u001b[0m                         Traceback (most recent call last)",
      "Cell \u001b[1;32mIn[1], line 2\u001b[0m\n\u001b[0;32m      1\u001b[0m \u001b[38;5;28;01mwhile\u001b[39;00m \u001b[38;5;28;01mTrue\u001b[39;00m: \n\u001b[1;32m----> 2\u001b[0m     guess \u001b[38;5;241m=\u001b[39m \u001b[38;5;28;43minput\u001b[39;49m\u001b[43m \u001b[49m\u001b[43m(\u001b[49m\u001b[38;5;124;43m\"\u001b[39;49m\u001b[38;5;124;43mGuess my name\u001b[39;49m\u001b[38;5;124;43m\"\u001b[39;49m\u001b[43m)\u001b[49m\n\u001b[0;32m      3\u001b[0m     \u001b[38;5;28;01mif\u001b[39;00m guess \u001b[38;5;241m!=\u001b[39m \u001b[38;5;124m\"\u001b[39m\u001b[38;5;124mRumplestiltskin\u001b[39m\u001b[38;5;124m\"\u001b[39m  : \n\u001b[0;32m      4\u001b[0m         \u001b[38;5;28mprint\u001b[39m (\u001b[38;5;124m\"\u001b[39m\u001b[38;5;124mWrong!\u001b[39m\u001b[38;5;124m\"\u001b[39m)\n",
      "File \u001b[1;32m~\\AppData\\Roaming\\Python\\Python313\\site-packages\\ipykernel\\kernelbase.py:1282\u001b[0m, in \u001b[0;36mKernel.raw_input\u001b[1;34m(self, prompt)\u001b[0m\n\u001b[0;32m   1280\u001b[0m     msg \u001b[38;5;241m=\u001b[39m \u001b[38;5;124m\"\u001b[39m\u001b[38;5;124mraw_input was called, but this frontend does not support input requests.\u001b[39m\u001b[38;5;124m\"\u001b[39m\n\u001b[0;32m   1281\u001b[0m     \u001b[38;5;28;01mraise\u001b[39;00m StdinNotImplementedError(msg)\n\u001b[1;32m-> 1282\u001b[0m \u001b[38;5;28;01mreturn\u001b[39;00m \u001b[38;5;28;43mself\u001b[39;49m\u001b[38;5;241;43m.\u001b[39;49m\u001b[43m_input_request\u001b[49m\u001b[43m(\u001b[49m\n\u001b[0;32m   1283\u001b[0m \u001b[43m    \u001b[49m\u001b[38;5;28;43mstr\u001b[39;49m\u001b[43m(\u001b[49m\u001b[43mprompt\u001b[49m\u001b[43m)\u001b[49m\u001b[43m,\u001b[49m\n\u001b[0;32m   1284\u001b[0m \u001b[43m    \u001b[49m\u001b[38;5;28;43mself\u001b[39;49m\u001b[38;5;241;43m.\u001b[39;49m\u001b[43m_parent_ident\u001b[49m\u001b[43m[\u001b[49m\u001b[38;5;124;43m\"\u001b[39;49m\u001b[38;5;124;43mshell\u001b[39;49m\u001b[38;5;124;43m\"\u001b[39;49m\u001b[43m]\u001b[49m\u001b[43m,\u001b[49m\n\u001b[0;32m   1285\u001b[0m \u001b[43m    \u001b[49m\u001b[38;5;28;43mself\u001b[39;49m\u001b[38;5;241;43m.\u001b[39;49m\u001b[43mget_parent\u001b[49m\u001b[43m(\u001b[49m\u001b[38;5;124;43m\"\u001b[39;49m\u001b[38;5;124;43mshell\u001b[39;49m\u001b[38;5;124;43m\"\u001b[39;49m\u001b[43m)\u001b[49m\u001b[43m,\u001b[49m\n\u001b[0;32m   1286\u001b[0m \u001b[43m    \u001b[49m\u001b[43mpassword\u001b[49m\u001b[38;5;241;43m=\u001b[39;49m\u001b[38;5;28;43;01mFalse\u001b[39;49;00m\u001b[43m,\u001b[49m\n\u001b[0;32m   1287\u001b[0m \u001b[43m\u001b[49m\u001b[43m)\u001b[49m\n",
      "File \u001b[1;32m~\\AppData\\Roaming\\Python\\Python313\\site-packages\\ipykernel\\kernelbase.py:1325\u001b[0m, in \u001b[0;36mKernel._input_request\u001b[1;34m(self, prompt, ident, parent, password)\u001b[0m\n\u001b[0;32m   1322\u001b[0m \u001b[38;5;28;01mexcept\u001b[39;00m \u001b[38;5;167;01mKeyboardInterrupt\u001b[39;00m:\n\u001b[0;32m   1323\u001b[0m     \u001b[38;5;66;03m# re-raise KeyboardInterrupt, to truncate traceback\u001b[39;00m\n\u001b[0;32m   1324\u001b[0m     msg \u001b[38;5;241m=\u001b[39m \u001b[38;5;124m\"\u001b[39m\u001b[38;5;124mInterrupted by user\u001b[39m\u001b[38;5;124m\"\u001b[39m\n\u001b[1;32m-> 1325\u001b[0m     \u001b[38;5;28;01mraise\u001b[39;00m \u001b[38;5;167;01mKeyboardInterrupt\u001b[39;00m(msg) \u001b[38;5;28;01mfrom\u001b[39;00m\u001b[38;5;250m \u001b[39m\u001b[38;5;28;01mNone\u001b[39;00m\n\u001b[0;32m   1326\u001b[0m \u001b[38;5;28;01mexcept\u001b[39;00m \u001b[38;5;167;01mException\u001b[39;00m:\n\u001b[0;32m   1327\u001b[0m     \u001b[38;5;28mself\u001b[39m\u001b[38;5;241m.\u001b[39mlog\u001b[38;5;241m.\u001b[39mwarning(\u001b[38;5;124m\"\u001b[39m\u001b[38;5;124mInvalid Message:\u001b[39m\u001b[38;5;124m\"\u001b[39m, exc_info\u001b[38;5;241m=\u001b[39m\u001b[38;5;28;01mTrue\u001b[39;00m)\n",
      "\u001b[1;31mKeyboardInterrupt\u001b[0m: Interrupted by user"
     ]
    }
   ],
   "source": [
    "while True: \n",
    "    guess = input (\"Guess my name\")\n",
    "    if guess != \"Rumplestiltskin\"  : \n",
    "        print (\"Wrong!\")\n",
    "        continue\n",
    "    print(\"Correct!\")\n",
    "    break\n"
   ]
  },
  {
   "cell_type": "code",
   "execution_count": 2,
   "metadata": {},
   "outputs": [
    {
     "name": "stdout",
     "output_type": "stream",
     "text": [
      "18\n"
     ]
    }
   ],
   "source": [
    "\n",
    "number= int(input(\"Enter a number\"))\n",
    "total=0\n",
    "\n",
    "#add numbers in loop until zero is entered\n",
    "while number != 0 : \n",
    "    total += number\n",
    "    number = int(input(\"Please enter a number\"))\n",
    "    continue  \n",
    "print (total)\n",
    "\n"
   ]
  }
 ],
 "metadata": {
  "kernelspec": {
   "display_name": "Python 3",
   "language": "python",
   "name": "python3"
  },
  "language_info": {
   "codemirror_mode": {
    "name": "ipython",
    "version": 3
   },
   "file_extension": ".py",
   "mimetype": "text/x-python",
   "name": "python",
   "nbconvert_exporter": "python",
   "pygments_lexer": "ipython3",
   "version": "3.13.1"
  }
 },
 "nbformat": 4,
 "nbformat_minor": 2
}
