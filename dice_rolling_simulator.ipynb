{
 "cells": [
  {
   "cell_type": "code",
   "execution_count": 1,
   "metadata": {},
   "outputs": [
    {
     "name": "stdout",
     "output_type": "stream",
     "text": [
      "You rolled a 2!\n",
      "You rolled a 2!\n",
      "You rolled a 1!\n",
      "Invalid input. Please type 'yes' or 'no'.\n",
      "You rolled a 1!\n",
      "Thanks for playing!\n"
     ]
    }
   ],
   "source": [
    "# creating a dice roll simulator \n",
    "\n",
    "# creation of a range\n",
    "dice = [1,2,3,4,5,6]\n",
    "\n",
    "#import random funciton to the cell \n",
    "import random \n",
    "\n",
    "# while loop to assess differnet outcomes \n",
    "while True:\n",
    "    ask = input(\"Would you like to roll the dice? (yes/no): \").lower()\n",
    "\n",
    "# if its 'yes' we will roll a dice , which can be simulated with the random.choice() function \n",
    "# used f strings to show what was rolled \n",
    "    if ask == \"yes\":\n",
    "            roll = random.choice(dice)\n",
    "            print(f\"You rolled a {roll}!\")\n",
    "            \n",
    "# if the answer is 'no' , we will thank the player for playing \n",
    "    elif ask == \"no\":\n",
    "            print(\"Thanks for playing!\")\n",
    "            break\n",
    "    \n",
    "# anything else answered will ask the user to type a yes or no statement again \n",
    "    else:\n",
    "            print(\"Invalid input. Please type 'yes' or 'no'.\")\n",
    "\n"
   ]
  }
 ],
 "metadata": {
  "kernelspec": {
   "display_name": "Python 3",
   "language": "python",
   "name": "python3"
  },
  "language_info": {
   "codemirror_mode": {
    "name": "ipython",
    "version": 3
   },
   "file_extension": ".py",
   "mimetype": "text/x-python",
   "name": "python",
   "nbconvert_exporter": "python",
   "pygments_lexer": "ipython3",
   "version": "3.13.1"
  }
 },
 "nbformat": 4,
 "nbformat_minor": 2
}
