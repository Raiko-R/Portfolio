{
 "cells": [
  {
   "cell_type": "code",
   "execution_count": 1,
   "metadata": {},
   "outputs": [
    {
     "name": "stdout",
     "output_type": "stream",
     "text": [
      "Welcome to Mad Libs! Please enter the following words:\n",
      "\n",
      "=== Your Mad Libs Story ===\n",
      "\n",
      "It was a , cold November day. I woke up to the d \n",
      "smell of d roasting in the  downstairs. \n",
      "\n",
      "I  down the stairs to see if I could help  the dinner. \n",
      "My mom said, \"See if  needs a fresh .\"\n",
      "\n",
      "So I carried a tray of glasses full of d into the d room. \n",
      "When I got there, I couldn't believe my d! \n",
      "There were d d on the d!\n",
      "\n"
     ]
    }
   ],
   "source": [
    "# First, welcome the user so they know what program they're using\n",
    "print(\"Welcome to Mad Libs! Please enter the following words:\")\n",
    "\n",
    "# We'll need to collect various words from the user\n",
    "# Using descriptive variable names helps us keep track of what kind of word we need\n",
    "# input() is used to get text from the user\n",
    "# Each input() call displays a prompt and waits for the user to type something\n",
    "adjective1 = input(\"Enter an adjective: \")          # First adjective for describing the day\n",
    "adjective2 = input(\"Enter another adjective: \")     # Second adjective for describing the smell\n",
    "bird = input(\"Enter a type of bird: \")             # Bird type that's being cooked\n",
    "room = input(\"Enter a room in a house: \")          # Room where cooking happens\n",
    "verb_past = input(\"Enter a past tense verb: \")     # Action verb in past tense for movement\n",
    "verb = input(\"Enter a verb: \")                     # Action verb for helping with dinner\n",
    "relative_name = input(\"Enter a relative's name: \") # Name of a family member\n",
    "noun1 = input(\"Enter a noun: \")                    # Object that might be needed\n",
    "liquid = input(\"Enter a type of liquid: \")         # Type of drink being served\n",
    "verb_ing = input(\"Enter a verb ending in -ing: \")  # Ongoing action describing the room\n",
    "body_part_plural = input(\"Enter a body part (plural): \") # Plural body part for surprise\n",
    "noun_plural = input(\"Enter a plural noun: \")       # Multiple objects being observed\n",
    "verb_ing2 = input(\"Enter another verb ending in -ing: \") # Action these objects are doing\n",
    "noun2 = input(\"Enter another noun: \")              # Location where objects are found\n",
    "\n",
    "# Now we create the story template using an f-string\n",
    "# f-strings allow us to embed our variables right in the text using {variable_name}\n",
    "# The triple quotes (\"\"\") allow us to write a multi-line string\n",
    "story = f\"\"\"\n",
    "Once upon a time, three {adjective1} little pigs left home to seek their fortune.\n",
    "The first little pig was rather {adjective2} and kept a pet {bird} as company.\n",
    "This pig built a house near the {room} and {verb_past} all day long.\n",
    "\n",
    "The second pig was busy {verb_ing} when the big bad wolf came to {verb}.\n",
    "Meanwhile, the third pig, named {relative_name}, wisely built their house out of {noun1}.\n",
    "\n",
    "The wolf, with {body_part_plural} trembling in anger, tried to blow the houses down!\n",
    "When that didn't work, he drank some {liquid} to cool off.\n",
    "\n",
    "Inside the strongest house were many {noun_plural} for protection.\n",
    "The wolf kept {verb_ing2} around until he fell right into the {noun2}!\n",
    "\n",
    "The three pigs lived happily ever after, and learned that hard work pays off!\n",
    "\n",
    "\"\"\"\n",
    "\n",
    "# Add a separator to make the output look nicer\n",
    "print(\"\\n=== Your Mad Libs Story ===\")\n",
    "\n",
    "# Finally, print the completed story with all the user's words inserted\n",
    "# The story variable now contains the complete text with all substitutions made\n",
    "print(story)\n"
   ]
  }
 ],
 "metadata": {
  "kernelspec": {
   "display_name": "Python 3",
   "language": "python",
   "name": "python3"
  },
  "language_info": {
   "codemirror_mode": {
    "name": "ipython",
    "version": 3
   },
   "file_extension": ".py",
   "mimetype": "text/x-python",
   "name": "python",
   "nbconvert_exporter": "python",
   "pygments_lexer": "ipython3",
   "version": "3.13.1"
  }
 },
 "nbformat": 4,
 "nbformat_minor": 2
}
