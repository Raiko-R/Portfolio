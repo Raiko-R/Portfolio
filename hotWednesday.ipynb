{
 "cells": [
  {
   "cell_type": "code",
   "execution_count": 7,
   "metadata": {},
   "outputs": [
    {
     "name": "stdout",
     "output_type": "stream",
     "text": [
      "['i', 'd', 'l', 'e']\n",
      "['i', 'd']\n",
      "['i', 'n']\n"
     ]
    }
   ],
   "source": [
    "my_list = ['i' , 'd' , 'l' , 'e' ]\n",
    "print(my_list)\n",
    "\n",
    "del my_list[2:4]\n",
    "print(my_list)\n",
    "\n",
    "my_list[1]='n'\n",
    "print(my_list)"
   ]
  },
  {
   "cell_type": "code",
   "execution_count": 19,
   "metadata": {},
   "outputs": [
    {
     "name": "stdout",
     "output_type": "stream",
     "text": [
      "['s', 'i', 'n']\n",
      "['s', 'i', 'n', 'g']\n",
      "['s', 't', 'i', 'n', 'g']\n",
      "s\n"
     ]
    }
   ],
   "source": [
    "#concatenating = obtaining a new string that contains both of the original strings (adding two strings togeher!)\n",
    "\n",
    "new_list = [\"s\"] + my_list\n",
    "print ( new_list)\n",
    "\n",
    "# appending - adding a single item to a data type , such as  list \n",
    "\n",
    "new_list.append(\"g\")\n",
    "print(new_list)      \n",
    "\n",
    "# insert function\n",
    "\n",
    "new_list.insert(1,\"t\") \n",
    "print(new_list)\n",
    "\n",
    "#random function \n",
    "\n",
    "import random \n",
    "\n",
    "letter = random.choice(new_list)\n",
    "print(letter)"
   ]
  },
  {
   "cell_type": "code",
   "execution_count": 22,
   "metadata": {},
   "outputs": [
    {
     "name": "stdout",
     "output_type": "stream",
     "text": [
      "[0, 1, 2, 3, 4]\n"
     ]
    },
    {
     "data": {
      "text/plain": [
       "10"
      ]
     },
     "execution_count": 22,
     "metadata": {},
     "output_type": "execute_result"
    }
   ],
   "source": [
    "# this code looks at the index of new_list and adds the index to final_list\n",
    "\n",
    "final_list = []\n",
    "for i in new_list:\n",
    "    final_list.append(new_list.index(i))\n",
    "print(final_list)\n",
    "sum(final_list)"
   ]
  },
  {
   "cell_type": "code",
   "execution_count": 26,
   "metadata": {},
   "outputs": [
    {
     "name": "stdout",
     "output_type": "stream",
     "text": [
      "['one', 'two', 'three']\n",
      "one\ttwo\tthree\tthree\ttwo\tone\t"
     ]
    }
   ],
   "source": [
    "my_new_list = ['one','two','three']\n",
    "print (my_new_list[0:3])\n",
    "\n",
    "for i in my_new_list:\n",
    "    print(i,end='\\t')\n",
    "\n",
    "for i in reversed( my_new_list):\n",
    "    print(i,end='\\t')"
   ]
  },
  {
   "cell_type": "code",
   "execution_count": null,
   "metadata": {},
   "outputs": [],
   "source": [
    "#initialise an empty list \n",
    "\n",
    "my_task=[]\n",
    "\n",
    "# function to specify amount of numers to enter \n",
    "\n",
    "for i in range(1,11):\n",
    "    while True:\n",
    "        user_input =input(f\"Please enter an integer number #{i}: \")\n",
    "        try:\n",
    "            num = int(user_input)\n",
    "            my_task.append(num)\n",
    "            break\n",
    "        except ValueError:\n",
    "            print(\"that is not a value integer. Please enter a valid integer\") \n",
    "\n",
    "# calculate sum and average of numbers \n",
    "\n",
    "total_sum = sum(my_task)\n",
    "average = total_sum/len(my_task)\n",
    "\n",
    "#output of result \n",
    "\n",
    "print(f\"the sum of the numbers is: {total_sum}\")\n",
    "print(f\"the average of the numbers is: {average}\") \n",
    "\n",
    "\n",
    "for num in my_task: \n",
    "    if num < average : \n",
    "        proportion = 'below average'  \n",
    "    elif num > average : \n",
    "        proportion = 'above average' \n",
    "    else: \n",
    "        proportion =' average'\n",
    "    print(f\"{num} is {proportion} average\")"
   ]
  },
  {
   "cell_type": "code",
   "execution_count": 43,
   "metadata": {},
   "outputs": [
    {
     "name": "stdout",
     "output_type": "stream",
     "text": [
      "21.818181818181817\n",
      "3.3333333333333335\n"
     ]
    },
    {
     "data": {
      "text/plain": [
       "'i am great'"
      ]
     },
     "execution_count": 43,
     "metadata": {},
     "output_type": "execute_result"
    }
   ],
   "source": [
    "# creating functions \n",
    "\n",
    "# #creating a function to convert lb to kg \n",
    "def convert_to_kilogram (lb): \n",
    "     kilogram = lb / 2.2 \n",
    "     return kilogram\n",
    "\n",
    "print(convert_to_kilogram(48))\n",
    "\n",
    "# converting from farenheight to celcius \n",
    "\n",
    "def convert_to_celcius (temp):\n",
    "       farenheight = (temp - 32)*(5/9)\n",
    "       return farenheight\n",
    "print (convert_to_celcius(38))\n",
    "\n",
    "#global variable \n",
    "\n",
    "var = \"i am great\"\n",
    "\n",
    "#def a funciton that access right variable \n",
    "\n",
    "def global_var():\n",
    "      variable = var \n",
    "      return variable \n",
    "\n",
    "global_var()"
   ]
  },
  {
   "cell_type": "code",
   "execution_count": 44,
   "metadata": {},
   "outputs": [
    {
     "data": {
      "text/plain": [
       "'i am great'"
      ]
     },
     "execution_count": 44,
     "metadata": {},
     "output_type": "execute_result"
    }
   ],
   "source": [
    "var"
   ]
  },
  {
   "cell_type": "code",
   "execution_count": 46,
   "metadata": {},
   "outputs": [
    {
     "name": "stdout",
     "output_type": "stream",
     "text": [
      "I am happy\n"
     ]
    }
   ],
   "source": [
    "# local vairbale \n",
    "\n",
    "def my_func():\n",
    "    local_var = 'I am happy'\n",
    "    print(local_var)\n",
    "\n",
    "my_func()"
   ]
  },
  {
   "cell_type": "code",
   "execution_count": 47,
   "metadata": {},
   "outputs": [
    {
     "name": "stdout",
     "output_type": "stream",
     "text": [
      "I am happy\n"
     ]
    }
   ],
   "source": [
    "my_func()"
   ]
  }
 ],
 "metadata": {
  "kernelspec": {
   "display_name": "Python 3",
   "language": "python",
   "name": "python3"
  },
  "language_info": {
   "codemirror_mode": {
    "name": "ipython",
    "version": 3
   },
   "file_extension": ".py",
   "mimetype": "text/x-python",
   "name": "python",
   "nbconvert_exporter": "python",
   "pygments_lexer": "ipython3",
   "version": "3.13.1"
  }
 },
 "nbformat": 4,
 "nbformat_minor": 2
}
