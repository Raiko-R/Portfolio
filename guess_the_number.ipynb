{
 "cells": [
  {
   "cell_type": "code",
   "execution_count": 1,
   "metadata": {},
   "outputs": [
    {
     "name": "stdout",
     "output_type": "stream",
     "text": [
      "Wrong - Your guess 1 is too low!\n",
      "Wrong - Your guess 45 is too low!\n",
      "Wrong - Your guess 47 is too low!\n",
      "Correct! the answer was 48\n"
     ]
    }
   ],
   "source": [
    "# guess the number \n",
    "# Import the random module to generate random numbers\n",
    "import random \n",
    "\n",
    "# Generate a random number between 1 and 50 and store it in 'number'\n",
    "number = random.randint(1,50)\n",
    "\n",
    "# Start an infinite loop that will only end when the correct guess is made\n",
    "while True: \n",
    "    try:\n",
    "        # Ask for user input and convert it to an integer\n",
    "        guess = int(input(\"Guess the number between 1 and 50:\"))\n",
    "    except ValueError:\n",
    "        # If user enters anything that can't be converted to an integer (like letters),\n",
    "        # show error message and continue to the next iteration of the loop\n",
    "        print(\"Invalid input. Please type a number between 1 & 50!\")\n",
    "        continue\n",
    "\n",
    "    # Check if the guess matches the random number\n",
    "    if guess == number:\n",
    "        # If correct, display success message and break the loop\n",
    "        print(f\"Correct! the answer was {number}\")\n",
    "        break\n",
    "    elif guess > number:\n",
    "        # If guess is too high, tell the user\n",
    "        print(f\"Wrong - Your guess {guess} is too high!\")\n",
    "    elif guess < number:\n",
    "        # If guess is too low, tell the user\n",
    "        print(f\"Wrong - Your guess {guess} is too low!\")\n",
    "\n"
   ]
  }
 ],
 "metadata": {
  "kernelspec": {
   "display_name": "Python 3",
   "language": "python",
   "name": "python3"
  },
  "language_info": {
   "codemirror_mode": {
    "name": "ipython",
    "version": 3
   },
   "file_extension": ".py",
   "mimetype": "text/x-python",
   "name": "python",
   "nbconvert_exporter": "python",
   "pygments_lexer": "ipython3",
   "version": "3.13.1"
  }
 },
 "nbformat": 4,
 "nbformat_minor": 2
}
